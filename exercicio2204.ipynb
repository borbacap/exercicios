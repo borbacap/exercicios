{
 "cells": [
  {
   "cell_type": "code",
   "execution_count": 13,
   "id": "3a15fd4c-0b43-4bce-b0d9-4581fa7c12a3",
   "metadata": {},
   "outputs": [
    {
     "data": {
      "text/plain": [
       "[15, 14, 13, 12, 11, 10, 9, 8, 7, 6, 5, 4, 3, 2, 1, 0]"
      ]
     },
     "execution_count": 13,
     "metadata": {},
     "output_type": "execute_result"
    }
   ],
   "source": [
    "lista = [0,1,2,3,4,5,6,7,8,9,10,11,12,13,14,15]\n",
    "lista[::-1]"
   ]
  },
  {
   "cell_type": "code",
   "execution_count": 14,
   "id": "b288c577-bb61-4f6a-a648-935200005804",
   "metadata": {},
   "outputs": [
    {
     "data": {
      "text/plain": [
       "[1, 3, 5, 7, 9, 11, 13, 15]"
      ]
     },
     "execution_count": 14,
     "metadata": {},
     "output_type": "execute_result"
    }
   ],
   "source": [
    "lista[1::2]"
   ]
  },
  {
   "cell_type": "code",
   "execution_count": 15,
   "id": "53d80583-3cc8-49aa-b924-cbd937d8e365",
   "metadata": {},
   "outputs": [
    {
     "data": {
      "text/plain": [
       "[0, 1, 2, 3, 4, 5, 6, 7, 8, 9]"
      ]
     },
     "execution_count": 15,
     "metadata": {},
     "output_type": "execute_result"
    }
   ],
   "source": [
    "lista[0:10]"
   ]
  },
  {
   "cell_type": "code",
   "execution_count": 16,
   "id": "be2d3944-42e2-426a-9dfb-8291ccfeb110",
   "metadata": {},
   "outputs": [],
   "source": [
    "lista.append(20)"
   ]
  },
  {
   "cell_type": "code",
   "execution_count": 18,
   "id": "14c8d091-da4a-4a1f-acc1-01e0186722e1",
   "metadata": {},
   "outputs": [
    {
     "data": {
      "text/plain": [
       "(<function print(*args, sep=' ', end='\\n', file=None, flush=False)>,\n",
       " [0, 1, 2, 3, 4, 5, 6, 7, 8, 9, 10, 11, 12, 13, 14, 15, 20])"
      ]
     },
     "execution_count": 18,
     "metadata": {},
     "output_type": "execute_result"
    }
   ],
   "source": [
    "print,lista"
   ]
  },
  {
   "cell_type": "code",
   "execution_count": null,
   "id": "ff748bc8-4750-417e-82dc-1d29814146bd",
   "metadata": {},
   "outputs": [],
   "source": []
  }
 ],
 "metadata": {
  "kernelspec": {
   "display_name": "Python 3 (ipykernel)",
   "language": "python",
   "name": "python3"
  },
  "language_info": {
   "codemirror_mode": {
    "name": "ipython",
    "version": 3
   },
   "file_extension": ".py",
   "mimetype": "text/x-python",
   "name": "python",
   "nbconvert_exporter": "python",
   "pygments_lexer": "ipython3",
   "version": "3.11.2"
  }
 },
 "nbformat": 4,
 "nbformat_minor": 5
}
