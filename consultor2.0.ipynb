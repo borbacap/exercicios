{
 "cells": [
  {
   "cell_type": "code",
   "execution_count": 2,
   "id": "312d66e5-f890-46a3-a0ce-39108601e0dc",
   "metadata": {},
   "outputs": [
    {
     "name": "stdout",
     "output_type": "stream",
     "text": [
      "Selecione uma moeda\n",
      "Real Brasileiro - R$ [1]\n",
      "Peso Argentino - A$ [2]\n",
      "Novo Sol - S/ [3]\n"
     ]
    },
    {
     "name": "stdin",
     "output_type": "stream",
     "text": [
      "Escolha uma moeda:  2\n"
     ]
    },
    {
     "name": "stdout",
     "output_type": "stream",
     "text": [
      "Consultor de Preços\n",
      "Maçã: [1]\n",
      "Banana: [2]\n",
      "Laranja: [3]\n",
      "Uva: [4]\n",
      "Pêra: [5]\n"
     ]
    },
    {
     "name": "stdin",
     "output_type": "stream",
     "text": [
      "Escolha uma opção:  2\n"
     ]
    },
    {
     "name": "stdout",
     "output_type": "stream",
     "text": [
      "A$ 86\n"
     ]
    }
   ],
   "source": [
    "precos = {\n",
    "    \"BRL\": {\"maçã\": 1.00, \"banana\": 0.50, \"laranja\": 0.75, \"uva\": 2.00, \"pera\": 1.50},\n",
    "    \"ARG\": {\"maçã\": 172, \"banana\": 86, \"laranja\": 129, \"uva\": 343, \"pera\": 257},\n",
    "    \"PU\": {\"maçã\": 0.74, \"banana\": 0.37, \"laranja\": 0.55, \"uva\": 1.74, \"pera\": 1.10}\n",
    "}\n",
    "\n",
    "moedas = {\n",
    "    \"1\": (\"BRL\", \"R$\"),\n",
    "    \"2\": (\"ARG\", \"A$\"),\n",
    "    \"3\": (\"PU\", \"S/\")\n",
    "}\n",
    "\n",
    "def mostrar_precos(moeda):\n",
    "    print(\"Consultor de Preços\")\n",
    "    print(\"Maçã: [1]\")\n",
    "    print(\"Banana: [2]\")\n",
    "    print(\"Laranja: [3]\")\n",
    "    print(\"Uva: [4]\")\n",
    "    print(\"Pêra: [5]\")\n",
    "    opcao_escolhida = input('Escolha uma opção: ')\n",
    "    \n",
    "    frutas = [\"maçã\", \"banana\", \"laranja\", \"uva\", \"pera\"]\n",
    "    \n",
    "    if opcao_escolhida in ['1', '2', '3', '4', '5']:\n",
    "        fruta = frutas[int(opcao_escolhida) - 1]\n",
    "        print(f\"{moeda[1]} {precos[moeda[0]][fruta]}\")\n",
    "    else:\n",
    "        print('Opção Inválida')\n",
    "\n",
    "print(\"Selecione uma moeda\")\n",
    "print(\"Real Brasileiro - R$ [1]\")\n",
    "print(\"Peso Argentino - A$ [2]\")\n",
    "print(\"Novo Sol - S/ [3]\")\n",
    "\n",
    "moeda_escolhida = input('Escolha uma moeda: ')\n",
    "moeda = moedas.get(moeda_escolhida)\n",
    "\n",
    "if moeda:\n",
    "    mostrar_precos(moeda)\n",
    "else:\n",
    "    print('Opção Inválida')\n"
   ]
  },
  {
   "cell_type": "code",
   "execution_count": null,
   "id": "b6f48d10-77e3-4c42-93e4-f2ca76952bb9",
   "metadata": {},
   "outputs": [],
   "source": []
  }
 ],
 "metadata": {
  "kernelspec": {
   "display_name": "Python 3 (ipykernel)",
   "language": "python",
   "name": "python3"
  },
  "language_info": {
   "codemirror_mode": {
    "name": "ipython",
    "version": 3
   },
   "file_extension": ".py",
   "mimetype": "text/x-python",
   "name": "python",
   "nbconvert_exporter": "python",
   "pygments_lexer": "ipython3",
   "version": "3.11.2"
  }
 },
 "nbformat": 4,
 "nbformat_minor": 5
}
