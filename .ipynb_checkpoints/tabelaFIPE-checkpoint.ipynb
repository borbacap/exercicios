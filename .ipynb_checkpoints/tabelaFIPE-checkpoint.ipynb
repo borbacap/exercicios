{
 "cells": [
  {
   "cell_type": "code",
   "execution_count": 34,
   "id": "f9b265e1-30ad-4a1b-a8dd-18c464d118cb",
   "metadata": {},
   "outputs": [
    {
     "name": "stdout",
     "output_type": "stream",
     "text": [
      "Preço mínimo de um carro em 2023: 1985.0\n",
      "Preço máximo de um carro em 2023: 8600000.0\n",
      "Carros entre R$ 5.000,00 e R$ 7.000,00:\n",
      "                  brand                          model  year_model  \\\n",
      "575733             Baby               Buggy 1.6 2-Lug.        1997   \n",
      "575762             Baby  Buggy 1.6/ TST/ RS 1.6 4-Lug.        1998   \n",
      "575763             Baby  Buggy 1.6/ TST/ RS 1.6 4-Lug.        1997   \n",
      "575764             Baby  Buggy 1.6/ TST/ RS 1.6 4-Lug.        1996   \n",
      "576653              BRM         Buggy/M-8/M-8 Long 1.6        1994   \n",
      "...                 ...                            ...         ...   \n",
      "596810  VW - VolksWagen   Gol Furgão 1.6 Mi/ 1.6i/ 1.6        1991   \n",
      "598462            Volvo         460 GLT 2.0/ Turbo 1.8        1993   \n",
      "598463            Volvo         460 GLT 2.0/ Turbo 1.8        1992   \n",
      "598553            Volvo                  440 Turbo 1.8        1993   \n",
      "598554            Volvo                  440 Turbo 1.8        1992   \n",
      "\n",
      "        avg_price_brl  \n",
      "575733         5116.0  \n",
      "575762         6071.0  \n",
      "575763         5369.0  \n",
      "575764         5197.0  \n",
      "576653         6767.0  \n",
      "...               ...  \n",
      "596810         5655.0  \n",
      "598462         6927.0  \n",
      "598463         6648.0  \n",
      "598553         6435.0  \n",
      "598554         6257.0  \n",
      "\n",
      "[456 rows x 4 columns]\n"
     ]
    }
   ],
   "source": [
    "import pandas as pd\n",
    "\n",
    "# Carregando a planilha enviada pelo usuário\n",
    "file_path = '/home/borba/Downloads/fipe_cars.csv'\n",
    "df = pd.read_csv(file_path, encoding='latin1')\n",
    "\n",
    "# Filtrando os dados para o ano de 2023\n",
    "df_2023 = df[df['year_of_reference'] == 2023]\n",
    "\n",
    "# 1. Preço mínimo de um carro em 2023\n",
    "preco_minimo = df_2023['avg_price_brl'].min()\n",
    "\n",
    "# 2. Preço máximo de um carro em 2023\n",
    "preco_maximo = df_2023['avg_price_brl'].max()\n",
    "\n",
    "# 3. Carros que podem ser comprados com valores entre R$ 5.000,00 e R$ 7.000,00\n",
    "carros_5000_7000 = df_2023[(df_2023['avg_price_brl'] >= 5000) & (df_2023['avg_price_brl'] <= 7000)]\n",
    "\n",
    "print(\"Preço mínimo de um carro em 2023:\", preco_minimo)\n",
    "print(\"Preço máximo de um carro em 2023:\", preco_maximo)\n",
    "print(\"Carros entre R$ 5.000,00 e R$ 7.000,00:\")\n",
    "print(carros_5000_7000[['brand', 'model', 'year_model', 'avg_price_brl']])\n",
    "\n"
   ]
  },
  {
   "cell_type": "code",
   "execution_count": null,
   "id": "06093800-ed4b-4126-8fc2-8951e94c3ead",
   "metadata": {},
   "outputs": [],
   "source": []
  }
 ],
 "metadata": {
  "kernelspec": {
   "display_name": "Python 3 (ipykernel)",
   "language": "python",
   "name": "python3"
  },
  "language_info": {
   "codemirror_mode": {
    "name": "ipython",
    "version": 3
   },
   "file_extension": ".py",
   "mimetype": "text/x-python",
   "name": "python",
   "nbconvert_exporter": "python",
   "pygments_lexer": "ipython3",
   "version": "3.11.2"
  }
 },
 "nbformat": 4,
 "nbformat_minor": 5
}
